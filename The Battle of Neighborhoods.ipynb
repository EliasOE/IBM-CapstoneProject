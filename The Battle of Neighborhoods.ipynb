{
 "metadata": {
  "language_info": {
   "codemirror_mode": {
    "name": "ipython",
    "version": 3
   },
   "file_extension": ".py",
   "mimetype": "text/x-python",
   "name": "python",
   "nbconvert_exporter": "python",
   "pygments_lexer": "ipython3",
   "version": 3
  },
  "orig_nbformat": 2
 },
 "nbformat": 4,
 "nbformat_minor": 2,
 "cells": [
  {
   "cell_type": "markdown",
   "metadata": {},
   "source": [
    " <h1>The Battle of Neighborhoods</h1>"
   ]
  },
  {
   "cell_type": "markdown",
   "metadata": {},
   "source": [
    "<h2> A description of the problem and a discussion of the background. </h2>"
   ]
  },
  {
   "cell_type": "markdown",
   "metadata": {},
   "source": [
    "<h3> Introduction/Business Problem </h3>"
   ]
  },
  {
   "cell_type": "markdown",
   "metadata": {},
   "source": [
    "Since the last decade or so, the rise for the envorimental action and the movement to have a vegetarian/vegam lifestyle, I want is to investigate where there are the most vegan/vegaterian restaurants are in London and where there a possiblilty to open a restaurant which less competition. \n",
    "\n",
    "This is for getting a first data collection to see where we can go from there for further investigation."
   ]
  },
  {
   "cell_type": "markdown",
   "metadata": {},
   "source": [
    "<h3>Data Section</h3>"
   ]
  },
  {
   "cell_type": "markdown",
   "metadata": {},
   "source": [
    "I will use data from Foursquare API to get the information to do the assignment. I Foursquare API will give me information about Restaurants, such as is it Vegetarian, price and rating."
   ]
  }
 ]
}